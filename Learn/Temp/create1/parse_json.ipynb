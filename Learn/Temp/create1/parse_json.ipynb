{
 "cells": [
  {
   "cell_type": "code",
   "execution_count": 1,
   "id": "307fccca",
   "metadata": {},
   "outputs": [],
   "source": [
    "import json"
   ]
  },
  {
   "cell_type": "code",
   "execution_count": 3,
   "id": "373eb4f1",
   "metadata": {
    "scrolled": true
   },
   "outputs": [
    {
     "name": "stdout",
     "output_type": "stream",
     "text": [
      "The no. of playlists : 10000\n",
      "{'name': 'spanish playlist', 'num_holdouts': 11, 'pid': 1000002, 'num_tracks': 11, 'tracks': [], 'num_samples': 0}\n",
      "1000002\n",
      "1000003\n",
      "1006778\n",
      "22\n",
      "22\n"
     ]
    },
    {
     "ename": "AttributeError",
     "evalue": "module 'json' has no attribute 'stringify'",
     "output_type": "error",
     "traceback": [
      "\u001b[1;31m---------------------------------------------------------------------------\u001b[0m",
      "\u001b[1;31mAttributeError\u001b[0m                            Traceback (most recent call last)",
      "Input \u001b[1;32mIn [3]\u001b[0m, in \u001b[0;36m<cell line: 18>\u001b[1;34m()\u001b[0m\n\u001b[0;32m     15\u001b[0m \u001b[38;5;28mprint\u001b[39m(\u001b[38;5;28mlen\u001b[39m(l1))\n\u001b[0;32m     16\u001b[0m \u001b[38;5;28mprint\u001b[39m(\u001b[38;5;28mlen\u001b[39m(l2))\n\u001b[1;32m---> 18\u001b[0m string_json \u001b[38;5;241m=\u001b[39m \u001b[43mjson\u001b[49m\u001b[38;5;241;43m.\u001b[39;49m\u001b[43mstringify\u001b[49m(playlists)\n",
      "\u001b[1;31mAttributeError\u001b[0m: module 'json' has no attribute 'stringify'"
     ]
    }
   ],
   "source": [
    "json_file = open('challenge_set.json')\n",
    "dataset = json.load(json_file)\n",
    "\n",
    "playlists = dataset['playlists']\n",
    "print(f\"The no. of playlists : {len(playlists)}\")\n",
    "print(playlists[0])\n",
    "\n",
    "print(playlists[0]['pid'])\n",
    "print(playlists[1]['pid'])\n",
    "print(playlists[9999]['pid'])\n",
    "\n",
    "l1 = \"5ctLj8Dg7yucz4TPwruzyx\"\n",
    "l2 = \"76VtA90NKurNqaQpV126Ue\"\n",
    "\n",
    "print(len(l1))\n",
    "print(len(l2))\n",
    "\n",
    "string_json = json.stringify(playlists)"
   ]
  },
  {
   "cell_type": "code",
   "execution_count": 230,
   "id": "363cf438",
   "metadata": {},
   "outputs": [
    {
     "name": "stdout",
     "output_type": "stream",
     "text": [
      "53AC8Aec9f3JDlWWhtqygC\n"
     ]
    }
   ],
   "source": [
    "import re\n",
    "\n",
    "str = 'spotify:track:76VtA90NKurNqaQpV126Ue  \"artist_uri\": \"spotify:artist:5pKCCKE2ajJHZ9KAiaK11H\",\"artist_name\": \"Far East Movement\", \"track_uri\": \"spotify:track:53AC8Aec9f3JDlWWhtqygC\", '\n",
    "\n",
    "pat = re.findall(r'spotify:track:+[\\w\\.-]+',str)\n",
    "pat[1] = pat[1].replace(\"spotify:track:\",\"\")\n",
    "print(pat[1])"
   ]
  },
  {
   "cell_type": "code",
   "execution_count": 195,
   "id": "26097fd4",
   "metadata": {},
   "outputs": [
    {
     "name": "stdout",
     "output_type": "stream",
     "text": [
      "862\n",
      "39685\n",
      "75\n"
     ]
    }
   ],
   "source": [
    "with open('a.txt') as text:\n",
    "    lines = text.readlines()\n",
    "print(len(lines))\n",
    "str = \"\"\n",
    "for i in range(len(lines)):\n",
    "    str += lines[i]\n",
    "print(len(str))\n",
    "\n",
    "pattern1 = re.findall(r'spotify:track:+[\\w\\.-]+',str)\n",
    "# print(pattern)\n",
    "print(len(pattern1))\n",
    "\n",
    "# print(pattern1)\n",
    "# print('My list:', *pattern1, sep='\\n- ')"
   ]
  },
  {
   "cell_type": "code",
   "execution_count": 197,
   "id": "8de9239e",
   "metadata": {},
   "outputs": [
    {
     "name": "stdout",
     "output_type": "stream",
     "text": [
      "2897008\n"
     ]
    },
    {
     "ename": "KeyboardInterrupt",
     "evalue": "",
     "output_type": "error",
     "traceback": [
      "\u001b[1;31m---------------------------------------------------------------------------\u001b[0m",
      "\u001b[1;31mKeyboardInterrupt\u001b[0m                         Traceback (most recent call last)",
      "Input \u001b[1;32mIn [197]\u001b[0m, in \u001b[0;36m<cell line: 5>\u001b[1;34m()\u001b[0m\n\u001b[0;32m      4\u001b[0m \u001b[38;5;28mstr\u001b[39m \u001b[38;5;241m=\u001b[39m \u001b[38;5;124m\"\u001b[39m\u001b[38;5;124m\"\u001b[39m\n\u001b[0;32m      5\u001b[0m \u001b[38;5;28;01mfor\u001b[39;00m i \u001b[38;5;129;01min\u001b[39;00m \u001b[38;5;28mrange\u001b[39m(\u001b[38;5;28mlen\u001b[39m(lines)):\n\u001b[1;32m----> 6\u001b[0m     \u001b[38;5;28mstr\u001b[39m \u001b[38;5;241m+\u001b[39m\u001b[38;5;241m=\u001b[39m lines[i]\n\u001b[0;32m      7\u001b[0m \u001b[38;5;28mprint\u001b[39m(\u001b[38;5;28mlen\u001b[39m(\u001b[38;5;28mstr\u001b[39m))\n\u001b[0;32m      9\u001b[0m pattern1 \u001b[38;5;241m=\u001b[39m re\u001b[38;5;241m.\u001b[39mfindall(\u001b[38;5;124mr\u001b[39m\u001b[38;5;124m'\u001b[39m\u001b[38;5;124mspotify:track:+[\u001b[39m\u001b[38;5;124m\\\u001b[39m\u001b[38;5;124mw\u001b[39m\u001b[38;5;124m\\\u001b[39m\u001b[38;5;124m.-]+\u001b[39m\u001b[38;5;124m'\u001b[39m,\u001b[38;5;28mstr\u001b[39m)\n",
      "\u001b[1;31mKeyboardInterrupt\u001b[0m: "
     ]
    }
   ],
   "source": [
    "with open('challenge_set.txt') as text:\n",
    "    lines = text.readlines()\n",
    "print(len(lines))\n",
    "str = \"\"\n",
    "for i in range(len(lines)):\n",
    "    str += lines[i]\n",
    "print(len(str))\n",
    "\n",
    "pattern1 = re.findall(r'spotify:track:+[\\w\\.-]+',str)\n",
    "# print(pattern)\n",
    "print(len(pattern1))\n",
    "\n",
    "# print(pattern1)\n",
    "# print('My list:', *pattern1, sep='\\n- ')\n",
    "\n"
   ]
  },
  {
   "cell_type": "code",
   "execution_count": 210,
   "id": "264f5853",
   "metadata": {},
   "outputs": [
    {
     "name": "stdout",
     "output_type": "stream",
     "text": [
      "spotify:track:5EQ9yEra0SzVd673ZfKT4C\n"
     ]
    }
   ],
   "source": [
    "print(pattern1[280999-11])"
   ]
  },
  {
   "cell_type": "code",
   "execution_count": 214,
   "id": "29e59e1d",
   "metadata": {},
   "outputs": [],
   "source": [
    "import csv\n",
    "with open('track_id.csv', 'w') as f:\n",
    "      \n",
    "   \n",
    "    write = csv.writer(f)\n",
    "    fields=['SPOTIFY TRACK ID'] \n",
    "    write.writerow(fields)\n",
    "    write.writerows(pattern1)"
   ]
  },
  {
   "cell_type": "code",
   "execution_count": 4,
   "id": "02576b54",
   "metadata": {},
   "outputs": [
    {
     "ename": "NameError",
     "evalue": "name 'pattern1' is not defined",
     "output_type": "error",
     "traceback": [
      "\u001b[1;31m---------------------------------------------------------------------------\u001b[0m",
      "\u001b[1;31mNameError\u001b[0m                                 Traceback (most recent call last)",
      "Input \u001b[1;32mIn [4]\u001b[0m, in \u001b[0;36m<cell line: 4>\u001b[1;34m()\u001b[0m\n\u001b[0;32m      1\u001b[0m \u001b[38;5;28;01mimport\u001b[39;00m \u001b[38;5;21;01mpandas\u001b[39;00m \u001b[38;5;28;01mas\u001b[39;00m \u001b[38;5;21;01mpd\u001b[39;00m  \n\u001b[1;32m----> 4\u001b[0m df \u001b[38;5;241m=\u001b[39m pd\u001b[38;5;241m.\u001b[39mDataFrame(\u001b[43mpattern1\u001b[49m) \n\u001b[0;32m      6\u001b[0m df\u001b[38;5;241m.\u001b[39mto_csv(\u001b[38;5;124m'\u001b[39m\u001b[38;5;124mtrack.csv\u001b[39m\u001b[38;5;124m'\u001b[39m)\n",
      "\u001b[1;31mNameError\u001b[0m: name 'pattern1' is not defined"
     ]
    }
   ],
   "source": [
    "import pandas as pd  \n",
    "  \n",
    "       \n",
    "df = pd.DataFrame(pattern1) \n",
    "\n",
    "df.to_csv('track.csv') "
   ]
  },
  {
   "cell_type": "code",
   "execution_count": 217,
   "id": "b51eff66",
   "metadata": {},
   "outputs": [
    {
     "data": {
      "text/html": [
       "<div>\n",
       "<style scoped>\n",
       "    .dataframe tbody tr th:only-of-type {\n",
       "        vertical-align: middle;\n",
       "    }\n",
       "\n",
       "    .dataframe tbody tr th {\n",
       "        vertical-align: top;\n",
       "    }\n",
       "\n",
       "    .dataframe thead th {\n",
       "        text-align: right;\n",
       "    }\n",
       "</style>\n",
       "<table border=\"1\" class=\"dataframe\">\n",
       "  <thead>\n",
       "    <tr style=\"text-align: right;\">\n",
       "      <th></th>\n",
       "      <th>0</th>\n",
       "    </tr>\n",
       "  </thead>\n",
       "  <tbody>\n",
       "    <tr>\n",
       "      <th>0</th>\n",
       "      <td>spotify:track:66U0ASk1VHZsqIkpMjKX3B</td>\n",
       "    </tr>\n",
       "    <tr>\n",
       "      <th>1</th>\n",
       "      <td>spotify:track:5MhsZlmKJG6X5kTHkdwC4B</td>\n",
       "    </tr>\n",
       "    <tr>\n",
       "      <th>2</th>\n",
       "      <td>spotify:track:0GZoB8h0kqXn7XFm4Sj06k</td>\n",
       "    </tr>\n",
       "    <tr>\n",
       "      <th>3</th>\n",
       "      <td>spotify:track:35kahykNu00FPysz3C2euR</td>\n",
       "    </tr>\n",
       "    <tr>\n",
       "      <th>4</th>\n",
       "      <td>spotify:track:3G6hD9B2ZHOsgf4WfNu7X1</td>\n",
       "    </tr>\n",
       "    <tr>\n",
       "      <th>...</th>\n",
       "      <td>...</td>\n",
       "    </tr>\n",
       "    <tr>\n",
       "      <th>280993</th>\n",
       "      <td>spotify:track:2fE4MbwX3QGMzNaMjGVhtw</td>\n",
       "    </tr>\n",
       "    <tr>\n",
       "      <th>280994</th>\n",
       "      <td>spotify:track:6FI3RJ58Ztl0X1VtA6pVs9</td>\n",
       "    </tr>\n",
       "    <tr>\n",
       "      <th>280996</th>\n",
       "      <td>spotify:track:1JClFT74TYSXlzpagbmj0S</td>\n",
       "    </tr>\n",
       "    <tr>\n",
       "      <th>280998</th>\n",
       "      <td>spotify:track:4hdog9vyyqG9pcppG2Izek</td>\n",
       "    </tr>\n",
       "    <tr>\n",
       "      <th>280999</th>\n",
       "      <td>spotify:track:0NiXXAI876aGImAd6rTj8w</td>\n",
       "    </tr>\n",
       "  </tbody>\n",
       "</table>\n",
       "<p>242435 rows × 1 columns</p>\n",
       "</div>"
      ],
      "text/plain": [
       "                                           0\n",
       "0       spotify:track:66U0ASk1VHZsqIkpMjKX3B\n",
       "1       spotify:track:5MhsZlmKJG6X5kTHkdwC4B\n",
       "2       spotify:track:0GZoB8h0kqXn7XFm4Sj06k\n",
       "3       spotify:track:35kahykNu00FPysz3C2euR\n",
       "4       spotify:track:3G6hD9B2ZHOsgf4WfNu7X1\n",
       "...                                      ...\n",
       "280993  spotify:track:2fE4MbwX3QGMzNaMjGVhtw\n",
       "280994  spotify:track:6FI3RJ58Ztl0X1VtA6pVs9\n",
       "280996  spotify:track:1JClFT74TYSXlzpagbmj0S\n",
       "280998  spotify:track:4hdog9vyyqG9pcppG2Izek\n",
       "280999  spotify:track:0NiXXAI876aGImAd6rTj8w\n",
       "\n",
       "[242435 rows x 1 columns]"
      ]
     },
     "execution_count": 217,
     "metadata": {},
     "output_type": "execute_result"
    }
   ],
   "source": [
    "df[df.duplicated(keep=False)]"
   ]
  },
  {
   "cell_type": "code",
   "execution_count": 224,
   "id": "d51a27f1",
   "metadata": {},
   "outputs": [
    {
     "name": "stdout",
     "output_type": "stream",
     "text": [
      "38565\n",
      "38565\n"
     ]
    }
   ],
   "source": [
    "df1 = df\n",
    "df1.drop_duplicates(keep = False, inplace = True)\n",
    "print(len(df))\n",
    "print(len(df1))\n",
    "# df[3850]"
   ]
  },
  {
   "cell_type": "code",
   "execution_count": 2,
   "id": "9f3a6b5e",
   "metadata": {},
   "outputs": [
    {
     "ename": "NameError",
     "evalue": "name 'df1' is not defined",
     "output_type": "error",
     "traceback": [
      "\u001b[1;31m---------------------------------------------------------------------------\u001b[0m",
      "\u001b[1;31mNameError\u001b[0m                                 Traceback (most recent call last)",
      "Input \u001b[1;32mIn [2]\u001b[0m, in \u001b[0;36m<cell line: 1>\u001b[1;34m()\u001b[0m\n\u001b[1;32m----> 1\u001b[0m \u001b[43mdf1\u001b[49m\n",
      "\u001b[1;31mNameError\u001b[0m: name 'df1' is not defined"
     ]
    }
   ],
   "source": [
    "df1"
   ]
  }
 ],
 "metadata": {
  "kernelspec": {
   "display_name": "Python 3 (ipykernel)",
   "language": "python",
   "name": "python3"
  },
  "language_info": {
   "codemirror_mode": {
    "name": "ipython",
    "version": 3
   },
   "file_extension": ".py",
   "mimetype": "text/x-python",
   "name": "python",
   "nbconvert_exporter": "python",
   "pygments_lexer": "ipython3",
   "version": "3.9.12"
  }
 },
 "nbformat": 4,
 "nbformat_minor": 5
}
