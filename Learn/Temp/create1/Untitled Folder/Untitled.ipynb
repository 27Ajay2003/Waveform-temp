{
 "cells": [
  {
   "cell_type": "code",
   "execution_count": 1,
   "id": "97a7e78a",
   "metadata": {},
   "outputs": [],
   "source": [
    "import pandas as pd\n",
    "import csv"
   ]
  },
  {
   "cell_type": "code",
   "execution_count": 29,
   "id": "e8401d56",
   "metadata": {},
   "outputs": [
    {
     "name": "stdout",
     "output_type": "stream",
     "text": [
      "281000\n",
      "23.574021352313167\n",
      "\n"
     ]
    }
   ],
   "source": [
    "file = open('spotify_check_unique.csv')\n",
    "csvread = csv.reader(file)\n",
    "df = pd.DataFrame(csvread)\n",
    "\n",
    "print(len(df))\n",
    "print(len(df[0].unique())/len(df)*100)\n",
    "\n",
    "# df.unique()\n",
    "\n",
    "print()"
   ]
  }
 ],
 "metadata": {
  "kernelspec": {
   "display_name": "Python 3 (ipykernel)",
   "language": "python",
   "name": "python3"
  },
  "language_info": {
   "codemirror_mode": {
    "name": "ipython",
    "version": 3
   },
   "file_extension": ".py",
   "mimetype": "text/x-python",
   "name": "python",
   "nbconvert_exporter": "python",
   "pygments_lexer": "ipython3",
   "version": "3.9.12"
  }
 },
 "nbformat": 4,
 "nbformat_minor": 5
}
