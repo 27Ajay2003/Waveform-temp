{
 "cells": [
  {
   "cell_type": "code",
   "execution_count": 69,
   "id": "307fccca",
   "metadata": {},
   "outputs": [],
   "source": [
    "import json"
   ]
  },
  {
   "cell_type": "code",
   "execution_count": 72,
   "id": "373eb4f1",
   "metadata": {
    "scrolled": true
   },
   "outputs": [
    {
     "name": "stdout",
     "output_type": "stream",
     "text": [
      "The no. of playlists : 10000\n",
      "{'name': 'spanish playlist', 'num_holdouts': 11, 'pid': 1000002, 'num_tracks': 11, 'tracks': [], 'num_samples': 0}\n",
      "1000002\n",
      "1000003\n",
      "1006778\n",
      "22\n",
      "22\n"
     ]
    },
    {
     "ename": "AttributeError",
     "evalue": "module 'json' has no attribute 'stringify'",
     "output_type": "error",
     "traceback": [
      "\u001b[1;31m---------------------------------------------------------------------------\u001b[0m",
      "\u001b[1;31mAttributeError\u001b[0m                            Traceback (most recent call last)",
      "Input \u001b[1;32mIn [72]\u001b[0m, in \u001b[0;36m<cell line: 18>\u001b[1;34m()\u001b[0m\n\u001b[0;32m     15\u001b[0m \u001b[38;5;28mprint\u001b[39m(\u001b[38;5;28mlen\u001b[39m(l1))\n\u001b[0;32m     16\u001b[0m \u001b[38;5;28mprint\u001b[39m(\u001b[38;5;28mlen\u001b[39m(l2))\n\u001b[1;32m---> 18\u001b[0m string_json \u001b[38;5;241m=\u001b[39m \u001b[43mjson\u001b[49m\u001b[38;5;241;43m.\u001b[39;49m\u001b[43mstringify\u001b[49m(playlists)\n",
      "\u001b[1;31mAttributeError\u001b[0m: module 'json' has no attribute 'stringify'"
     ]
    }
   ],
   "source": [
    "json_file = open('challenge_set.json')\n",
    "dataset = json.load(json_file)\n",
    "\n",
    "playlists = dataset['playlists']\n",
    "print(f\"The no. of playlists : {len(playlists)}\")\n",
    "print(playlists[0])\n",
    "\n",
    "print(playlists[0]['pid'])\n",
    "print(playlists[1]['pid'])\n",
    "print(playlists[9999]['pid'])\n",
    "\n",
    "l1 = \"5ctLj8Dg7yucz4TPwruzyx\"\n",
    "l2 = \"76VtA90NKurNqaQpV126Ue\"\n",
    "\n",
    "print(len(l1))\n",
    "print(len(l2))\n",
    "\n",
    "string_json = json.stringify(playlists)"
   ]
  },
  {
   "cell_type": "code",
   "execution_count": 128,
   "id": "363cf438",
   "metadata": {},
   "outputs": [
    {
     "name": "stdout",
     "output_type": "stream",
     "text": [
      "['spotify:track:76VtA90NKurNqaQpV126Ue', 'spotify:track:53AC8Aec9f3JDlWWhtqygC']\n",
      "spotify:track:53AC8Aec9f3JDlWWhtqygC\n"
     ]
    }
   ],
   "source": [
    "import re\n",
    "\n",
    "str = 'spotify:track:76VtA90NKurNqaQpV126Ue  \"artist_uri\": \"spotify:artist:5pKCCKE2ajJHZ9KAiaK11H\",\"artist_name\": \"Far East Movement\", \"track_uri\": \"spotify:track:53AC8Aec9f3JDlWWhtqygC\", '\n",
    "\n",
    "pat = re.findall(r'spotify:track:+[\\w\\.-]+',str)\n",
    "print(pat)\n",
    "print(pat[1])"
   ]
  },
  {
   "cell_type": "code",
   "execution_count": 156,
   "id": "0df7a549",
   "metadata": {},
   "outputs": [
    {
     "name": "stdout",
     "output_type": "stream",
     "text": [
      "1500\n"
     ]
    }
   ],
   "source": [
    "with open('a.txt') as text:\n",
    "    lines += text.readlines()\n",
    "    \n",
    "str = \"\"\n",
    "for i in range(len(lines)):\n",
    "    str += lines[i]\n",
    "# print(str)\n",
    "\n",
    "pattern = re.findall(r'spotify:track:+[\\w\\.-]+',str)\n",
    "# print(pattern)\n",
    "print(len(pattern))"
   ]
  }
 ],
 "metadata": {
  "kernelspec": {
   "display_name": "Python 3 (ipykernel)",
   "language": "python",
   "name": "python3"
  },
  "language_info": {
   "codemirror_mode": {
    "name": "ipython",
    "version": 3
   },
   "file_extension": ".py",
   "mimetype": "text/x-python",
   "name": "python",
   "nbconvert_exporter": "python",
   "pygments_lexer": "ipython3",
   "version": "3.9.12"
  }
 },
 "nbformat": 4,
 "nbformat_minor": 5
}
