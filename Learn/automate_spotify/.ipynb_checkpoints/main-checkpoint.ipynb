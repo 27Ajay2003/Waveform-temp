{
 "cells": [
  {
   "cell_type": "code",
   "execution_count": null,
   "id": "6c1566f5",
   "metadata": {},
   "outputs": [],
   "source": [
    "import requests\n",
    "import base64\n",
    "import json\n",
    "from secrets import *\n",
    "\n",
    "# Step 1 - Authorization \n",
    "url = \"https://accounts.spotify.com/api/token\"\n",
    "headers = {}\n",
    "data = {}\n",
    "\n",
    "# Encode as Base64\n",
    "message = f\"{clientId}:{clientSecret}\"\n",
    "messageBytes = message.encode('ascii')\n",
    "base64Bytes = base64.b64encode(messageBytes)\n",
    "base64Message = base64Bytes.decode('ascii')\n",
    "\n",
    "\n",
    "headers['Authorization'] = f\"Basic {base64Message}\"\n",
    "data['grant_type'] = \"client_credentials\"\n",
    "\n",
    "r = requests.post(url, headers=headers, data=data)\n",
    "\n",
    "token = r.json()['access_token']\n",
    "\n",
    "# Step 2 - Use Access Token to call playlist endpoint\n",
    "\n",
    "playlistId = \"myPlaylistId\"\n",
    "playlistUrl = f\"https://api.spotify.com/v1/playlists/{playlistId}\"\n",
    "headers = {\n",
    "    \"Authorization\": \"Bearer \" + token\n",
    "}\n",
    "\n",
    "res = requests.get(url=playlistUrl, headers=headers)\n",
    "\n",
    "print(json.dumps(res.json(), indent=2))"
   ]
  }
 ],
 "metadata": {
  "kernelspec": {
   "display_name": "Python 3 (ipykernel)",
   "language": "python",
   "name": "python3"
  },
  "language_info": {
   "codemirror_mode": {
    "name": "ipython",
    "version": 3
   },
   "file_extension": ".py",
   "mimetype": "text/x-python",
   "name": "python",
   "nbconvert_exporter": "python",
   "pygments_lexer": "ipython3",
   "version": "3.9.12"
  }
 },
 "nbformat": 4,
 "nbformat_minor": 5
}
